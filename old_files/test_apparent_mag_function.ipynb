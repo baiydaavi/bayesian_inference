{
 "cells": [
  {
   "cell_type": "code",
   "execution_count": 6,
   "metadata": {},
   "outputs": [],
   "source": [
    "import math\n",
    "import numpy as np\n",
    "import matplotlib.pyplot as plt\n",
    "from scipy import integrate\n",
    "from astropy.io import ascii\n",
    "%matplotlib inline"
   ]
  },
  {
   "cell_type": "code",
   "execution_count": 17,
   "metadata": {},
   "outputs": [],
   "source": [
    "SNdata = ascii.read('lcparam_DS17f.txt')"
   ]
  },
  {
   "cell_type": "code",
   "execution_count": 9,
   "metadata": {},
   "outputs": [
    {
     "output_type": "execute_result",
     "data": {
      "text/plain": "<Table length=40>\n col1   col2    col3    col4       col5     ... col14 col15 col16 col17 col18\nint64 float64 float64 float64    float64    ... int64 int64 int64 int64 int64\n----- ------- ------- ------- ------------- ... ----- ----- ----- ----- -----\n    0   0.014   0.014     0.0   14.57001926 ...     0     0     0     0     0\n    1  0.0194  0.0194     0.0 15.2279603507 ...     0     0     0     0     0\n    2  0.0264  0.0264     0.0  15.934102317 ...     0     0     0     0     0\n    3  0.0329  0.0329     0.0 16.4217829558 ...     0     0     0     0     0\n    4  0.0396  0.0396     0.0  16.836418956 ...     0     0     0     0     0\n    5  0.0475  0.0475     0.0 17.2346439906 ...     0     0     0     0     0\n    6   0.056   0.056     0.0 17.5758459622 ...     0     0     0     0     0\n    7   0.064   0.064     0.0 17.9104543501 ...     0     0     0     0     0\n    8  0.0721  0.0721     0.0 18.1780074589 ...     0     0     0     0     0\n    9  0.0811  0.0811     0.0 18.5543855764 ...     0     0     0     0     0\n  ...     ...     ...     ...           ... ...   ...   ...   ...   ...   ...\n   30  0.4355  0.4355     0.0 22.5579272526 ...     0     0     0     0     0\n   31  0.4738  0.4738     0.0  22.797376642 ...     0     0     0     0     0\n   32  0.5174  0.5174     0.0 23.0011594448 ...     0     0     0     0     0\n   33  0.5742  0.5742     0.0 23.3004345026 ...     0     0     0     0     0\n   34  0.6299  0.6299     0.0 23.5036280324 ...     0     0     0     0     0\n   35   0.724   0.724     0.0 23.8666293039 ...     0     0     0     0     0\n   36   0.821   0.821     0.0 24.2445519795 ...     0     0     0     0     0\n   37  0.9511  0.9511     0.0 24.6411323707 ...     0     0     0     0     0\n   38  1.2336  1.2336     0.0 25.3039940191 ...     0     0     0     0     0\n   39  1.6123  1.6123     0.0 25.9259729107 ...     0     0     0     0     0",
      "text/html": "<i>Table length=40</i>\n<table id=\"table90617154576\" class=\"table-striped table-bordered table-condensed\">\n<thead><tr><th>col1</th><th>col2</th><th>col3</th><th>col4</th><th>col5</th><th>col6</th><th>col7</th><th>col8</th><th>col9</th><th>col10</th><th>col11</th><th>col12</th><th>col13</th><th>col14</th><th>col15</th><th>col16</th><th>col17</th><th>col18</th></tr></thead>\n<thead><tr><th>int64</th><th>float64</th><th>float64</th><th>float64</th><th>float64</th><th>float64</th><th>int64</th><th>int64</th><th>int64</th><th>int64</th><th>int64</th><th>int64</th><th>int64</th><th>int64</th><th>int64</th><th>int64</th><th>int64</th><th>int64</th></tr></thead>\n<tr><td>0</td><td>0.014</td><td>0.014</td><td>0.0</td><td>14.57001926</td><td>0.0311</td><td>0</td><td>0</td><td>0</td><td>0</td><td>0</td><td>0</td><td>0</td><td>0</td><td>0</td><td>0</td><td>0</td><td>0</td></tr>\n<tr><td>1</td><td>0.0194</td><td>0.0194</td><td>0.0</td><td>15.2279603507</td><td>0.02645</td><td>0</td><td>0</td><td>0</td><td>0</td><td>0</td><td>0</td><td>0</td><td>0</td><td>0</td><td>0</td><td>0</td><td>0</td></tr>\n<tr><td>2</td><td>0.0264</td><td>0.0264</td><td>0.0</td><td>15.934102317</td><td>0.0231</td><td>0</td><td>0</td><td>0</td><td>0</td><td>0</td><td>0</td><td>0</td><td>0</td><td>0</td><td>0</td><td>0</td><td>0</td></tr>\n<tr><td>3</td><td>0.0329</td><td>0.0329</td><td>0.0</td><td>16.4217829558</td><td>0.0235</td><td>0</td><td>0</td><td>0</td><td>0</td><td>0</td><td>0</td><td>0</td><td>0</td><td>0</td><td>0</td><td>0</td><td>0</td></tr>\n<tr><td>4</td><td>0.0396</td><td>0.0396</td><td>0.0</td><td>16.836418956</td><td>0.02845</td><td>0</td><td>0</td><td>0</td><td>0</td><td>0</td><td>0</td><td>0</td><td>0</td><td>0</td><td>0</td><td>0</td><td>0</td></tr>\n<tr><td>5</td><td>0.0475</td><td>0.0475</td><td>0.0</td><td>17.2346439906</td><td>0.0334</td><td>0</td><td>0</td><td>0</td><td>0</td><td>0</td><td>0</td><td>0</td><td>0</td><td>0</td><td>0</td><td>0</td><td>0</td></tr>\n<tr><td>6</td><td>0.056</td><td>0.056</td><td>0.0</td><td>17.5758459622</td><td>0.03215</td><td>0</td><td>0</td><td>0</td><td>0</td><td>0</td><td>0</td><td>0</td><td>0</td><td>0</td><td>0</td><td>0</td><td>0</td></tr>\n<tr><td>7</td><td>0.064</td><td>0.064</td><td>0.0</td><td>17.9104543501</td><td>0.0439</td><td>0</td><td>0</td><td>0</td><td>0</td><td>0</td><td>0</td><td>0</td><td>0</td><td>0</td><td>0</td><td>0</td><td>0</td></tr>\n<tr><td>8</td><td>0.0721</td><td>0.0721</td><td>0.0</td><td>18.1780074589</td><td>0.03865</td><td>0</td><td>0</td><td>0</td><td>0</td><td>0</td><td>0</td><td>0</td><td>0</td><td>0</td><td>0</td><td>0</td><td>0</td></tr>\n<tr><td>9</td><td>0.0811</td><td>0.0811</td><td>0.0</td><td>18.5543855764</td><td>0.04225</td><td>0</td><td>0</td><td>0</td><td>0</td><td>0</td><td>0</td><td>0</td><td>0</td><td>0</td><td>0</td><td>0</td><td>0</td></tr>\n<tr><td>...</td><td>...</td><td>...</td><td>...</td><td>...</td><td>...</td><td>...</td><td>...</td><td>...</td><td>...</td><td>...</td><td>...</td><td>...</td><td>...</td><td>...</td><td>...</td><td>...</td><td>...</td></tr>\n<tr><td>30</td><td>0.4355</td><td>0.4355</td><td>0.0</td><td>22.5579272526</td><td>0.0254</td><td>0</td><td>0</td><td>0</td><td>0</td><td>0</td><td>0</td><td>0</td><td>0</td><td>0</td><td>0</td><td>0</td><td>0</td></tr>\n<tr><td>31</td><td>0.4738</td><td>0.4738</td><td>0.0</td><td>22.797376642</td><td>0.02935</td><td>0</td><td>0</td><td>0</td><td>0</td><td>0</td><td>0</td><td>0</td><td>0</td><td>0</td><td>0</td><td>0</td><td>0</td></tr>\n<tr><td>32</td><td>0.5174</td><td>0.5174</td><td>0.0</td><td>23.0011594448</td><td>0.02685</td><td>0</td><td>0</td><td>0</td><td>0</td><td>0</td><td>0</td><td>0</td><td>0</td><td>0</td><td>0</td><td>0</td><td>0</td></tr>\n<tr><td>33</td><td>0.5742</td><td>0.5742</td><td>0.0</td><td>23.3004345026</td><td>0.0245</td><td>0</td><td>0</td><td>0</td><td>0</td><td>0</td><td>0</td><td>0</td><td>0</td><td>0</td><td>0</td><td>0</td><td>0</td></tr>\n<tr><td>34</td><td>0.6299</td><td>0.6299</td><td>0.0</td><td>23.5036280324</td><td>0.031</td><td>0</td><td>0</td><td>0</td><td>0</td><td>0</td><td>0</td><td>0</td><td>0</td><td>0</td><td>0</td><td>0</td><td>0</td></tr>\n<tr><td>35</td><td>0.724</td><td>0.724</td><td>0.0</td><td>23.8666293039</td><td>0.027</td><td>0</td><td>0</td><td>0</td><td>0</td><td>0</td><td>0</td><td>0</td><td>0</td><td>0</td><td>0</td><td>0</td><td>0</td></tr>\n<tr><td>36</td><td>0.821</td><td>0.821</td><td>0.0</td><td>24.2445519795</td><td>0.0248</td><td>0</td><td>0</td><td>0</td><td>0</td><td>0</td><td>0</td><td>0</td><td>0</td><td>0</td><td>0</td><td>0</td><td>0</td></tr>\n<tr><td>37</td><td>0.9511</td><td>0.9511</td><td>0.0</td><td>24.6411323707</td><td>0.0276</td><td>0</td><td>0</td><td>0</td><td>0</td><td>0</td><td>0</td><td>0</td><td>0</td><td>0</td><td>0</td><td>0</td><td>0</td></tr>\n<tr><td>38</td><td>1.2336</td><td>1.2336</td><td>0.0</td><td>25.3039940191</td><td>0.05635</td><td>0</td><td>0</td><td>0</td><td>0</td><td>0</td><td>0</td><td>0</td><td>0</td><td>0</td><td>0</td><td>0</td><td>0</td></tr>\n<tr><td>39</td><td>1.6123</td><td>1.6123</td><td>0.0</td><td>25.9259729107</td><td>0.0735</td><td>0</td><td>0</td><td>0</td><td>0</td><td>0</td><td>0</td><td>0</td><td>0</td><td>0</td><td>0</td><td>0</td><td>0</td></tr>\n</table>"
     },
     "metadata": {},
     "execution_count": 9
    }
   ],
   "source": [
    "SNdata"
   ]
  },
  {
   "cell_type": "code",
   "execution_count": 3,
   "metadata": {},
   "outputs": [],
   "source": [
    "def calculate_apparent_mag(params, SNdata):\n",
    "    '''                                                                                               \n",
    "    Parameters                                                                                        \n",
    "    ----------                                                                                        \n",
    "    Computes apparent magnitudes for an array of observed SN by using their                           \n",
    "    redshift data along with assumed cosmology parameters to compute a                                \n",
    "    luminosity distance for each SN, after which it is converted into a                               \n",
    "    distance modulus and combined with an input absolute magnitude to finally                         \n",
    "    ouput apparent magnitudes.                                                                        \n",
    "                                                                                                      \n",
    "    Note that for calculating luminosity distance we use the following                                \n",
    "    relations based on curvature:                                                                     \n",
    "    For k = 0: dL = (c(1+z)/H0)*(int^z_0 dz/E(z))                                                     \n",
    "    For k > 0: dL = (c(1+z)/H0)*(1/sqrt(abs(OmegaK))) \\                                               \n",
    "                    *sin(sqrt(abs(OmegaK))*(int^z_0 dz/E(z)))                                         \n",
    "    For k < 0: dL = (c(1+z)/H0)*(1/sqrt(abs(OmegaK))) \\                                               \n",
    "                    *sinh(sqrt(abs(OmegaK))*(int^z_0 dz/E(z)))                                        \n",
    "    Here E(z) = sqrt(OmegaM(1+z)^3 + OmegaLambda + OmegaK(1+z)^2)                                     \n",
    "                                                                                                      \n",
    "    Also note that in order to get the final dL in units of [pc] for use                              \n",
    "    in calculating the distance modulus, we input c in units of [km/s]                                \n",
    "    and H0 in units of [km/s/pc]. The value of c is hard-coded in while                               \n",
    "    H0 is multiplied by 10^-6 to convert from [km/s/Mpc] to [km/s/pc].                                \n",
    "                                                                                                      \n",
    "    params: array of 4 input parameters based on our assumed LambdaCDM-K                              \n",
    "            cosmology model (in order)                                                                \n",
    "            OmegaM: energy density of matter [dimensionless]                                          \n",
    "            OmegaLambda: energy density of dark energy [dimensionless]                                \n",
    "            H0: present-day value of Hubble parameter [needs to be in km/s/Mpc]                       \n",
    "            M: fiducial SN Ia absolute magnitude [dimensionless]                                      \n",
    "    SNdata: 2D data table consisting of the following values for each                                 \n",
    "            SN Ia (in order)                                                                          \n",
    "            mb: apparent magnitude in B band [dimensionless]                                          \n",
    "            dmb: error on apparent magnitude [dimensionless]                                          \n",
    "            zhel: redshift [dimensionless]                                   \n",
    "    \n",
    "    Returns                                                                                           \n",
    "    -------                                                                                           \n",
    "    apparent_mags: array of calculated apparent magnitude values for                                  \n",
    "                   each SN Ia based on our assumed cosmology                                          \n",
    "    '''\n",
    "\n",
    "    c = 3.0*(10**5)                       # speed of light in km/s                                    \n",
    "    apparent_mags = [0.0]*len(SNdata)     # to store calculated m values for each SN                  \n",
    "\n",
    "    OmegaK = 1 - params[0] - params[1]    # based on sum(Omega_i) = 1                                 \n",
    "\n",
    "    # looping over each SN in the dataset                                                             \n",
    "    for i in range(0, len(SNdata['col2'])):\n",
    "\n",
    "        f = lambda x: ((params[0]*((1+x)**3)) + (params[1]) + \\\n",
    "                      (OmegaK*((1+x)**2)))**-0.5\n",
    "        eta, etaerr = integrate.quad(f, 0.0, SNdata['col2'][i])\n",
    "\n",
    "        # note here that dL ends up being in units of pc                                              \n",
    "        if OmegaK == 0.0:\n",
    "            dL = (c*(1+SNdata['col2'][i])/(params[2]*(10**-6))) * eta\n",
    "        elif OmegaK > 0.0:\n",
    "            dL = (c*(1+SNdata['col2'][i])/(params[2]*(10**-6))) * (1/math.sqrt(abs(OmegaK))) \\\n",
    "                 * math.sin(math.sqrt(abs(OmegaK)) * eta)\n",
    "        elif OmegaK < 0.0:\n",
    "            dL = (c*(1+SNdata['col2'][i])/(params[2]*(10**-6))) *(1/math.sqrt(abs(OmegaK))) \\\n",
    "                 * math.sinh(math.sqrt(abs(OmegaK)) * eta)\n",
    "\n",
    "        apparent_mags[i] = 5*math.log10(dL/10.0) + params[3]\n",
    "\n",
    "    return apparent_mags"
   ]
  },
  {
   "cell_type": "code",
   "execution_count": 1,
   "metadata": {},
   "outputs": [],
   "source": [
    "def test_apparent_mag_fn(SNdata):\n",
    "    '''\n",
    "    Testing with default parameters of:\n",
    "    OmegaM = 0.3, OmegaLambda = 0.7, H0 = 70km/s/Mpc, M = -19.3\n",
    "    '''\n",
    "    \n",
    "    params = [0.3, 0.7, 70, -19.3]\n",
    "    \n",
    "    m = calculate_apparent_mag(params, SNdata)\n",
    "    \n",
    "    mu = []\n",
    "    for i in range(0, len(m)):\n",
    "        mu.append(m[i] - params[3])\n",
    "    \n",
    "    plt.scatter(SNdata['col2'], mu)\n",
    "    plt.xlabel('Redshift [z]', fontsize=12)\n",
    "    plt.ylabel('Distance Modulus [$\\\\mu$]', fontsize=12)\n",
    "    plt.xscale('log')\n",
    "    plt.xticks(fontsize=15)\n",
    "    plt.yticks(fontsize=15)\n",
    "    plt.tight_layout()\n",
    "    plt.show()"
   ]
  }
 ],
 "metadata": {
  "kernelspec": {
   "display_name": "Python 3",
   "language": "python",
   "name": "python3"
  },
  "language_info": {
   "codemirror_mode": {
    "name": "ipython",
    "version": 3
   },
   "file_extension": ".py",
   "mimetype": "text/x-python",
   "name": "python",
   "nbconvert_exporter": "python",
   "pygments_lexer": "ipython3",
   "version": "3.7.7-final"
  }
 },
 "nbformat": 4,
 "nbformat_minor": 2
}
{
 "cells": [
  {
   "cell_type": "code",
   "execution_count": 2,
   "metadata": {},
   "outputs": [],
   "source": [
    "import numpy as np\n",
    "import matplotlib.pyplot as plt"
   ]
  },
  {
   "cell_type": "markdown",
   "metadata": {},
   "source": [
    "\n",
    "### define the prior over the parameters\n",
    "the prior can be put into the return line. I think our parameter space is 3 dimensional, so I used 3 parameters but that can be easily changed.\n",
    "If mode=Normal or mode=Uniform gives normal/uniform priors. mode=None allows us to set different arbitrary functions for each prior. prior_1, prior_2, prior_3, prior_4 is what we have to edit to fit the new task (hopefully the priors dont actually depend on where we are in parameter space).\n"
   ]
  },
  {
   "cell_type": "code",
   "execution_count": 35,
   "metadata": {},
   "outputs": [],
   "source": [
    "def prior(params, mode=None):\n",
    "    if mode == 'normal' :\n",
    "        return np.prod(np.exp(-(params**2)))\n",
    "    if mode == 'uniform' :\n",
    "        return 1\n",
    "    else :\n",
    "        p1, p2, p3, p4 = params\n",
    "        prior_1 = p1/np.sum(params)\n",
    "        prior_2 = p1/np.sum(params)\n",
    "        prior_3 = p1/np.sum(params)\n",
    "        priot_4 = p1/np.sum(params)\n",
    "        return [prior_1*prior_2*prior_3*prior_4]"
   ]
  },
  {
   "cell_type": "markdown",
   "metadata": {},
   "source": [
    "\n",
    "### define the likelihood given a set of parameters and a data set\n",
    "pretty straightforward, we calculate the marginal probabilities of each data point and then take the product to find the joint probability(probability of the whole data set). marginal_probs is the part we will have to edit to fit our new task.\n",
    "\n",
    "Here we are just using p1 is the estimate of e and p3 is the estimate of the offset (assuming guassian signal)"
   ]
  },
  {
   "cell_type": "code",
   "execution_count": 31,
   "metadata": {},
   "outputs": [],
   "source": [
    "def likelihood(params, data):\n",
    "    p1, p2, p3, p4 = params\n",
    "    marginal_probs=np.sqrt(np.log(p1)) * p1**(-(data-p3)**2/2)\n",
    "    return np.prod(marginal_probs)"
   ]
  },
  {
   "cell_type": "markdown",
   "metadata": {},
   "source": [
    "\n",
    "### metropolis part\n",
    "\n",
    "Everything nontrivial is defined elsewhere, this is just a very straightforward fuction that returns False if we reject the candidate and True if we accept.\n"
   ]
  },
  {
   "cell_type": "code",
   "execution_count": 32,
   "metadata": {},
   "outputs": [],
   "source": [
    "def metropolis(params, candidate_params, data):\n",
    "    \n",
    "    def get_prob(params):\n",
    "        return prior(params, mode='uniform')*likelihood(params, data)\n",
    "    \n",
    "    threshhold = min(1, get_prob(candidate_params)/get_prob(params))\n",
    "    decide=np.random.uniform(0,1,1)\n",
    "    \n",
    "    if threshhold > decide:\n",
    "        return(True)\n",
    "    if threshhold < decide:\n",
    "        return(False)\n"
   ]
  },
  {
   "cell_type": "markdown",
   "metadata": {},
   "source": [
    "### the chain\n",
    "we start with some starting place for each parameter (in the case where the prior probs dont depend on location in parameter spacde, this doesnt matter at all). Next generate a candidate mode, and use the metropolis function above to decide if we want to make that move or not.\n"
   ]
  },
  {
   "cell_type": "code",
   "execution_count": 33,
   "metadata": {},
   "outputs": [],
   "source": [
    "start_seed = np.random.uniform(1,3,4)\n",
    "\n",
    "def chain(N, data, max_trials):\n",
    "    chain=[]\n",
    "    chain.append(np.random.normal((start_seed),1))\n",
    "    current = chain[0]\n",
    "    i=0\n",
    "    while len(chain) < N and i < max_trials:\n",
    "        candidate = np.random.normal((current),1)\n",
    "        i += 1\n",
    "        if metropolis(current, candidate, data):\n",
    "            chain.append(candidate)\n",
    "            current = candidate\n",
    "    print('trials:{}'.format(i))\n",
    "    return(np.asarray(chain))"
   ]
  },
  {
   "cell_type": "markdown",
   "metadata": {},
   "source": [
    "Just to test it"
   ]
  },
  {
   "cell_type": "code",
   "execution_count": 34,
   "metadata": {},
   "outputs": [
    {
     "name": "stdout",
     "output_type": "stream",
     "text": [
      "trials:23\n"
     ]
    },
    {
     "name": "stderr",
     "output_type": "stream",
     "text": [
      "/Users/kray/anaconda3/lib/python3.7/site-packages/ipykernel_launcher.py:3: RuntimeWarning: invalid value encountered in sqrt\n",
      "  This is separate from the ipykernel package so we can avoid doing imports until\n",
      "/Users/kray/anaconda3/lib/python3.7/site-packages/ipykernel_launcher.py:3: RuntimeWarning: invalid value encountered in log\n",
      "  This is separate from the ipykernel package so we can avoid doing imports until\n",
      "/Users/kray/anaconda3/lib/python3.7/site-packages/ipykernel_launcher.py:3: RuntimeWarning: invalid value encountered in power\n",
      "  This is separate from the ipykernel package so we can avoid doing imports until\n"
     ]
    },
    {
     "data": {
      "text/plain": [
       "[<matplotlib.lines.Line2D at 0x11f4c6a10>,\n",
       " <matplotlib.lines.Line2D at 0x11f4c6c90>,\n",
       " <matplotlib.lines.Line2D at 0x11f4c6e50>,\n",
       " <matplotlib.lines.Line2D at 0x11f4c6fd0>]"
      ]
     },
     "execution_count": 34,
     "metadata": {},
     "output_type": "execute_result"
    },
    {
     "data": {
      "image/png": "[encoded data removed]",
      "text/plain": [
       "<Figure size 432x288 with 1 Axes>"
      ]
     },
     "metadata": {
      "needs_background": "light"
     },
     "output_type": "display_data"
    }
   ],
   "source": [
    "data=np.random.normal(1,1,100)\n",
    "chn=chain(10, data, 10000)\n",
    "plt.plot(chn)"
   ]
  },
  {
   "cell_type": "code",
   "execution_count": 9,
   "metadata": {},
   "outputs": [
    {
     "data": {
      "text/plain": [
       "array([0.81019707, 1.1112108 , 2.86625275])"
      ]
     },
     "execution_count": 9,
     "metadata": {},
     "output_type": "execute_result"
    }
   ],
   "source": [
    "np.random.normal((start_seed),1)"
   ]
  },
  {
   "cell_type": "code",
   "execution_count": 5,
   "metadata": {},
   "outputs": [
    {
     "data": {
      "text/plain": [
       "array([1.49655587, 1.60244364, 2.28524767])"
      ]
     },
     "execution_count": 5,
     "metadata": {},
     "output_type": "execute_result"
    }
   ],
   "source": [
    "start_seed"
   ]
  },
  {
   "cell_type": "code",
   "execution_count": null,
   "metadata": {},
   "outputs": [],
   "source": []
  }
 ],
 "metadata": {
  "kernelspec": {
   "display_name": "Python 3",
   "language": "python",
   "name": "python3"
  },
  "language_info": {
   "codemirror_mode": {
    "name": "ipython",
    "version": 3
   },
   "file_extension": ".py",
   "mimetype": "text/x-python",
   "name": "python",
   "nbconvert_exporter": "python",
   "pygments_lexer": "ipython3",
   "version": "3.7.7"
  }
 },
 "nbformat": 4,
 "nbformat_minor": 4
}

{
 "cells": [
  {
   "cell_type": "markdown",
   "metadata": {},
   "source": [
    "proof of concept notebook as a scaffolding of our project, feel free to edit and refine as needed. I think in the end we should put all of these functions in a .py file and make a seaparate notebook for presenting."
   ]
  },
  {
   "cell_type": "code",
   "execution_count": 9,
   "metadata": {},
   "outputs": [],
   "source": [
    "import numpy as np\n",
    "import matplotlib.pyplot as plt\n",
    "import pandas as pd\n",
    "\n",
    "from theoretical_mag import calculate_apparent_mag\n",
    "\n",
    "# import main data\n",
    "data_lcparam = pd.read_csv(\"lcparam_DS17f.txt\", sep=\" \")\n",
    "# import systematic error\n",
    "data_sys = pd.read_csv(\"sys_DS17f.txt\", sep=\" \")\n",
    "data_sys.columns = [\"sys_error\"]\n",
    "sys_error_data = np.reshape(pd.Series.to_numpy(data_sys.sys_error), (40, 40))"
   ]
  },
  {
   "cell_type": "code",
   "execution_count": null,
   "metadata": {},
   "outputs": [],
   "source": []
  },
  {
   "cell_type": "markdown",
   "metadata": {},
   "source": [
    "\n",
    "### define the prior over the parameters\n",
    "\n",
    "If mode=Normal or mode=Uniform gives each parameter identical normal/uniform priors. mode=None allows us to set different arbitrary function for each prior. prior_1, prior_2, prior_3, prior_4 is what we have to edit to fit the new task (hopefully the priors dont actually depend on where we are in parameter space)."
   ]
  },
  {
   "cell_type": "code",
   "execution_count": 10,
   "metadata": {},
   "outputs": [],
   "source": [
    "def test_prior(params, magnitude_mode='uniform'):\n",
    "    if magnitude_mode == 'normal' :\n",
    "        return np.prod(np.exp(-(params**2)))\n",
    "    if magnitude_mode == 'uniform' :\n",
    "        return 1\n",
    "    else :\n",
    "        p1, p2, p3, p4 = params\n",
    "        prior_1 = abs(p1/np.sum(params))\n",
    "        prior_2 = abs(p2/np.sum(params))\n",
    "        prior_3 = abs(p3/np.sum(params))\n",
    "        priot_4 = abs(p4/np.sum(params))\n",
    "        return [prior_1*prior_2*prior_3*prior_4]\n",
    "\n",
    "#this is the actual prior function we will use\n",
    "from prior_likelihood import prior"
   ]
  },
  {
   "cell_type": "markdown",
   "metadata": {},
   "source": [
    "\n",
    "### define the likelihood given a set of parameters and a data set\n",
    "pretty straightforward, we calculate the marginal probabilities of each data point and then take the product to find the joint probability(probability of the whole data set). marginal_probs is the part we will have to edit to fit our new task.\n",
    "\n",
    "In this example we are just using p1 as an estimate of e and p3 as an estimate of the offset, assuming a guassian signal. This is just a test case. Our actual likelihood function will call upon the luminosity data and the function $\\mu(params,data)$."
   ]
  },
  {
   "cell_type": "code",
   "execution_count": 11,
   "metadata": {},
   "outputs": [],
   "source": [
    "def test_likelihood(params, data):\n",
    "    p1, p2, p3, p4 = params\n",
    "    marginal_probs=np.sqrt(np.log(p1)) * p1**(-(data-p3)**2/2)\n",
    "    return np.prod(marginal_probs)\n",
    "    \n",
    "#this is the actual likelihood we will use\n",
    "from prior_likelihood import likelihood\n",
    "\n",
    "#here is a (short term?), workaround for including systematic error\n",
    "def sys_error_likelihood(params, data):\n",
    "    return likelihood(params, data, sys_error=sys_error_data)"
   ]
  },
  {
   "cell_type": "markdown",
   "metadata": {},
   "source": [
    "\n",
    "### metropolis part\n",
    "\n",
    "Everything nontrivial is defined elsewhere, this is just a very straightforward fuction that returns False if we reject the candidate and True if we accept (uses the metropolis algorithm to accept/refect)\n",
    "\n",
    "\n",
    "Note that this fuction calls both the \"likelyhood\" and the \"prior\" function"
   ]
  },
  {
   "cell_type": "code",
   "execution_count": 12,
   "metadata": {},
   "outputs": [],
   "source": [
    "def metropolis(params, candidate_params, data, prior_func, likelihood_func, prior_mode = 'uniform'):  \n",
    "    if prior_func(candidate_params, magnitude_mode=prior_mode)==0:\n",
    "        return False\n",
    "\n",
    "    else:\n",
    "        def get_log_prob(params):\n",
    "            if prior_mode== 'uniform':\n",
    "                return likelihood_func(params, data)\n",
    "            else:\n",
    "                return prior_func(params, magnitude_mode=prior_mode)+likelihood_func(params, data)\n",
    "    \n",
    "        threshhold = np.exp(min(0,get_log_prob(candidate_params)-get_log_prob(params)))\n",
    "\n",
    "        decide=np.random.uniform(0,1,1)\n",
    "    \n",
    "        if threshhold > decide:\n",
    "            return True\n",
    "        else:\n",
    "            return False\n"
   ]
  },
  {
   "cell_type": "markdown",
   "metadata": {},
   "source": [
    "### the chain\n",
    "Again, everything nontrivial is elsewhere. The main art here is definig the proper starting point and variance for your start_state and variances inputs. The defaults are tuned so that the algorithm doesnt decay to less than 1 before starting to converge for our test case. \n",
    "\n",
    "### the convergence test\n",
    "simple convergence test that looks at the last 2*N. Convergence is defined as when the average over the first N steps is within some margin of the average over the second N steps for each parameter. Currently it is hardcorded to just look at p1 and p3, for obvious reasons."
   ]
  },
  {
   "cell_type": "code",
   "execution_count": 13,
   "metadata": {},
   "outputs": [],
   "source": [
    "def chain(data, max_trials=10000, convergence_window=50, convergence_threshhold=.001, start_state= np.ones(4)+1, variances=np.ones(4)/5,\n",
    "    prior_func=prior, likelihood_func=likelihood, prior_mode='uniform'):\n",
    "    '''\n",
    "    data is the data set\n",
    "    max_trials is to prevent it from taking too long if it gets stuck without convergence\n",
    "    convergence_window is how large a range it averages over for convergence\n",
    "    convergence_threshhold is the maximum allowed percent change for reaching convergence \n",
    "    start_state is the initial values for all parameters: np array of length 4\n",
    "    variances is the variance for each generating gaussian: np array of length 4\n",
    "    '''\n",
    "    chain=[]\n",
    "    rejects=[]\n",
    "    current = start_state\n",
    "    i=0\n",
    "    convergence = False\n",
    "    while convergence == False and i < max_trials:\n",
    "        candidate = np.random.normal(current,variances)\n",
    "        i += 1\n",
    "        if metropolis(current, candidate, data, prior_func, likelihood_func, prior_mode= prior_mode):\n",
    "            current = candidate\n",
    "        else:\n",
    "            rejects.append(candidate)\n",
    "        chain.append(current)\n",
    "        convergence = convergence_test(chain, convergence_window, convergence_threshhold)\n",
    "\n",
    "    print('total trials:{}. accepted {:.1f}% of trials'.format(i, 100*(1-len(rejects)/i)))\n",
    "    if convergence == False:\n",
    "        print('convergence failed')\n",
    "    return(np.asarray(chain), np.asarray(rejects))\n",
    "\n",
    "def convergence_test(chain, convergence_window, convergence_threshhold):\n",
    "        if len(chain) > 2*convergence_window:\n",
    "            old_means = np.mean(chain[-2*convergence_window + 1: -convergence_window], axis=0)\n",
    "            new_means = np.mean(chain[-convergence_window: -1], axis=0)\n",
    "            diff = abs(new_means - old_means)/abs(old_means)\n",
    "            # here we could hardcode it to look at just the max change in p1 and p3\n",
    "            # if max(diff[0],diff[2]) < convergence_threshhold:\n",
    "\n",
    "            if max(diff) < convergence_threshhold:\n",
    "                return True\n",
    "            else:\n",
    "                return False\n",
    "        else:\n",
    "            return False"
   ]
  },
  {
   "cell_type": "markdown",
   "metadata": {},
   "source": [
    "### test in a simple case\n",
    "\n",
    "we expect for $p1$ to converge to $e$ and $p3$ to converge to 1. $p2$ and $p4$ should not converge because they didnt play into the likelihood. commented out code deals with that\n"
   ]
  },
  {
   "cell_type": "code",
   "execution_count": 14,
   "metadata": {},
   "outputs": [],
   "source": [
    "#code to deal with the old test cases\n",
    "#can be uncommented if you change the likelihood and prior functions back to the test cases\n",
    "#test_data = np.random.normal(1,1,100)\n",
    "#chn,rej = chain(test_data, convergence_threshhold=.01, prior_func=test_prior, likelihood_func=test_likelihood)\n",
    "#plt.hist(chn[:,0]);\n",
    "#plt.hist(chn[:,2]);"
   ]
  },
  {
   "cell_type": "markdown",
   "metadata": {},
   "source": [
    "### Here is the code running on our actual data and functions.\n",
    " Obviously it isnt going to converge because our model is all wrong witout the true mu_model function"
   ]
  },
  {
   "cell_type": "code",
   "execution_count": 15,
   "metadata": {},
   "outputs": [
    {
     "name": "stdout",
     "output_type": "stream",
     "text": [
      "total trials:50. accepted 8.0% of trials\n",
      "convergence failed\n"
     ]
    }
   ],
   "source": [
    "# no systematic error\n",
    "chn, rej = chain(data_lcparam, max_trials=50, convergence_window=100, convergence_threshhold=.01, start_state=[.3,.7,70,-20], variances=[.05, .05, 3, .5], prior_mode='uniform' )\n",
    "# with sys error\n",
    "#chn, rej = chain(data_lcparam, max_trials=1000, convergence_threshhold=.01, start_state=[.3,.6,70,-19], variances=[.15, .15, 3, 1],  likelihood_func=sys_error_likelihood)"
   ]
  },
  {
   "cell_type": "code",
   "execution_count": 16,
   "metadata": {},
   "outputs": [
    {
     "data": {
      "text/plain": [
       "Text(0.5, 1.0, 'p4')"
      ]
     },
     "execution_count": 16,
     "metadata": {},
     "output_type": "execute_result"
    },
    {
     "data": {
      "image/png": "[encoded data removed]",
      "text/plain": [
       "<Figure size 432x288 with 4 Axes>"
      ]
     },
     "metadata": {
      "needs_background": "light"
     },
     "output_type": "display_data"
    }
   ],
   "source": [
    "fig,ax = plt.subplots(2,2)\n",
    "fig.suptitle('trace plots')\n",
    "ax[0,0].plot(chn[:,0])\n",
    "ax[0,0].plot(rej[:,0], '+', alpha=.3)\n",
    "ax[0,0].set_title('p1')\n",
    "ax[0,1].plot(chn[:,1])\n",
    "ax[0,1].plot(rej[:,1], '+', alpha=.3)\n",
    "ax[0,1].set_title('p2')\n",
    "ax[1,0].plot(chn[:,2])\n",
    "ax[1,0].plot(rej[:,2], '+', alpha=.3)\n",
    "ax[1,0].set_title('p3')\n",
    "ax[1,1].plot(chn[:,3])\n",
    "ax[1,1].plot(rej[:,3], '+', alpha=.3)\n",
    "ax[1,1].set_title('p4')"
   ]
  },
  {
   "cell_type": "code",
   "execution_count": 17,
   "metadata": {},
   "outputs": [
    {
     "data": {
      "image/png": "[encoded data removed]",
      "text/plain": [
       "<Figure size 432x288 with 1 Axes>"
      ]
     },
     "metadata": {
      "needs_background": "light"
     },
     "output_type": "display_data"
    }
   ],
   "source": [
    "plt.hist2d(chn[:,0],chn[:,1], bins=20);"
   ]
  }
 ],
 "metadata": {
  "kernelspec": {
   "display_name": "Python 3",
   "language": "python",
   "name": "python3"
  },
  "language_info": {
   "codemirror_mode": {
    "name": "ipython",
    "version": 3
   },
   "file_extension": ".py",
   "mimetype": "text/x-python",
   "name": "python",
   "nbconvert_exporter": "python",
   "pygments_lexer": "ipython3",
   "version": "3.7.7"
  }
 },
 "nbformat": 4,
 "nbformat_minor": 4
}
